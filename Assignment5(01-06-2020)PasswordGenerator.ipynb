{
 "cells": [
  {
   "cell_type": "markdown",
   "metadata": {},
   "source": [
    "# CSE-221710308061-Dheeraj"
   ]
  },
  {
   "cell_type": "code",
   "execution_count": 1,
   "metadata": {},
   "outputs": [
    {
     "name": "stdout",
     "output_type": "stream",
     "text": [
      "Your new passcode is :  dancingteacher@29\n",
      "Do you want another passcode ? : yes\n",
      "Your new passcode is :  eatingparent+42\n",
      "Do you want another passcode ? : yes\n",
      "Your new passcode is :  playingteacher#31\n",
      "Do you want another passcode ? : yes\n",
      "Your new passcode is :  walkingservant@82\n",
      "Do you want another passcode ? : no\n",
      "choosen passcode is :  walkingservant@82\n"
     ]
    }
   ],
   "source": [
    "def ranstring():\n",
    "    import random\n",
    "    verb=['sleepy','running','dancing','walking','eating','jumping','rolling','playing','draging','hanging']\n",
    "    noun = ['king','queen','servant','prince','princess','gangster','spy','parent','teacher','student']\n",
    "    char = ['@','#','$','%','^','&','*','!','+','-','=','.']\n",
    "    passcode = random.choice(verb)+random.choice(noun)+random.choice(char)+str(random.randint(1,100))\n",
    "    print('Your new passcode is : ',passcode)\n",
    "    s=input('Do you want another passcode ? : ')\n",
    "    if s == 'yes':\n",
    "        ranstring()\n",
    "    else:\n",
    "        print('choosen passcode is : ',passcode)\n",
    "ranstring()"
   ]
  }
 ],
 "metadata": {
  "kernelspec": {
   "display_name": "Python 3",
   "language": "python",
   "name": "python3"
  },
  "language_info": {
   "codemirror_mode": {
    "name": "ipython",
    "version": 3
   },
   "file_extension": ".py",
   "mimetype": "text/x-python",
   "name": "python",
   "nbconvert_exporter": "python",
   "pygments_lexer": "ipython3",
   "version": "3.7.6"
  }
 },
 "nbformat": 4,
 "nbformat_minor": 4
}
