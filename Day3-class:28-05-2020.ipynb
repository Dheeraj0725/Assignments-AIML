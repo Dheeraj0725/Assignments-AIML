{
 "cells": [
  {
   "cell_type": "code",
   "execution_count": 59,
   "metadata": {},
   "outputs": [
    {
     "name": "stdout",
     "output_type": "stream",
     "text": [
      "<class 'str'> <class 'str'>\n"
     ]
    }
   ],
   "source": [
    "s1 = 'Hello'\n",
    "s2 = 'good afternoon'\n",
    "print(type(s1),type(s2))"
   ]
  },
  {
   "cell_type": "code",
   "execution_count": 86,
   "metadata": {},
   "outputs": [
    {
     "name": "stdout",
     "output_type": "stream",
     "text": [
      "Hello good afternoon\n",
      "HelloHelloHello\n",
      "H ::char\n",
      "o ::char\n",
      "llo ::char\n",
      "Hello ::string\n",
      "5 ::length\n",
      "HELLO ::uppercase\n",
      "hello ::lowercase\n",
      "Hlo ::char\n",
      "olleH ::reverse\n",
      "True ::check char\n",
      "False :: char check\n",
      "o ::max ie ascii\n",
      "H ::min ie ascii\n",
      "c 1\n",
      "Hello ::captial first letter\n",
      "True ::check for alpha\n",
      "False ::chech for number\n",
      "True ::check for alpha and #no\n"
     ]
    }
   ],
   "source": [
    "s1 = 'Hello'\n",
    "s2 = 'good afternoon'\n",
    "s3= 'abc123'\n",
    "print(s1+' '+ s2)\n",
    "print(s1 * 3)\n",
    "print(s1[0],'::char')\n",
    "print(s1[-1],'::char')\n",
    "print(s1[2:],'::char')\n",
    "print(s1[:],'::string')\n",
    "print(len(s1),'::length')\n",
    "print(s1.upper(),'::uppercase')\n",
    "print(s1.lower(),'::lowercase')\n",
    "print(s1[::2],'::char')\n",
    "print(s1[::-1],'::reverse')\n",
    "print('lo' in s1,'::check char')\n",
    "print('st' in s1,':: char check')\n",
    "print(max(s1),'::max ie ascii')\n",
    "print(min(s1),'::min ie ascii')\n",
    "print(max(s3),min(s3))\n",
    "ord('a')#ascii valueprint\n",
    "print(s1.capitalize(),'::captial first letter')\n",
    "print(s1.isalpha(),'::check for alpha')\n",
    "print(s1.isdigit(),'::chech for number')\n",
    "print(s1.isalnum(),'::check for alpha and #no')\n",
    "\n"
   ]
  },
  {
   "cell_type": "code",
   "execution_count": 74,
   "metadata": {},
   "outputs": [
    {
     "name": "stdout",
     "output_type": "stream",
     "text": [
      "enter string for palin: mom\n",
      "mom is palin\n"
     ]
    }
   ],
   "source": [
    "s4 = input(\"enter string for palin: \")\n",
    "s5=(s4[::-1])\n",
    "if s4 ==s5:\n",
    "    print(s5,\"is palin\")\n",
    "else:\n",
    "    print(\"no\")"
   ]
  },
  {
   "cell_type": "code",
   "execution_count": 48,
   "metadata": {},
   "outputs": [
    {
     "name": "stdout",
     "output_type": "stream",
     "text": [
      "#no: 111\n",
      "palin\n"
     ]
    }
   ],
   "source": [
    "n = int(input(\"#no: \"))\n",
    "if str(n) == str(n)[::-1]:\n",
    "    print('palin')\n",
    "else:\n",
    "    print(\"no\")"
   ]
  },
  {
   "cell_type": "code",
   "execution_count": 89,
   "metadata": {},
   "outputs": [
    {
     "name": "stdout",
     "output_type": "stream",
     "text": [
      "False\n",
      "True\n",
      "PYTHON\n"
     ]
    }
   ],
   "source": [
    "s6='python'\n",
    "s7='PYTHON'\n",
    "print(s1.isupper())\n",
    "print(s7.isupper())\n",
    "print(s6.swapcase())"
   ]
  },
  {
   "cell_type": "code",
   "execution_count": 119,
   "metadata": {
    "scrolled": false
   },
   "outputs": [
    {
     "name": "stdout",
     "output_type": "stream",
     "text": [
      "['abc', 'abc', 'abc']\n",
      "['a', 'b', 'c', 'd']\n",
      "zbc zbc zbc\n"
     ]
    }
   ],
   "source": [
    "s8 = 'abc abc abc'\n",
    "s8.count('abc')\n",
    "print(s8.split(' '))#return type of split is list\n",
    "s9 = 'a,b,c,d'\n",
    "print(s9.split( ','))\n",
    "s8=s8.replace('a','z')\n",
    "print(s8)"
   ]
  },
  {
   "cell_type": "code",
   "execution_count": 128,
   "metadata": {},
   "outputs": [
    {
     "name": "stdout",
     "output_type": "stream",
     "text": [
      "enter: 3\n",
      "enter string: abcabc\n"
     ]
    },
    {
     "data": {
      "text/plain": [
       "'ababc'"
      ]
     },
     "execution_count": 128,
     "metadata": {},
     "output_type": "execute_result"
    }
   ],
   "source": [
    "n=int(input('enter: '))\n",
    "s=input('enter string: ')\n",
    "s.replace(s[n-1],'',1)#1 represents nth occurence"
   ]
  },
  {
   "cell_type": "code",
   "execution_count": 142,
   "metadata": {},
   "outputs": [
    {
     "name": "stdout",
     "output_type": "stream",
     "text": [
      "1\n",
      "3\n",
      "5\n",
      "7\n"
     ]
    }
   ],
   "source": [
    "n=10\n",
    "for i in range (1,n-1,2):\n",
    "    print(i)"
   ]
  },
  {
   "cell_type": "code",
   "execution_count": 146,
   "metadata": {},
   "outputs": [
    {
     "name": "stdout",
     "output_type": "stream",
     "text": [
      "p\n",
      "y\n",
      "t\n",
      "h\n",
      "o\n",
      "n\n"
     ]
    }
   ],
   "source": [
    "s= 'python'\n",
    "for i in s:\n",
    "    print(i)"
   ]
  },
  {
   "cell_type": "code",
   "execution_count": 150,
   "metadata": {},
   "outputs": [
    {
     "name": "stdout",
     "output_type": "stream",
     "text": [
      "p\n",
      "y\n",
      "t\n",
      "h\n",
      "o\n",
      "n\n"
     ]
    }
   ],
   "source": [
    "i=0;\n",
    "while i<len(s):\n",
    "    print(s[i])\n",
    "    i+=1"
   ]
  },
  {
   "cell_type": "code",
   "execution_count": 151,
   "metadata": {},
   "outputs": [
    {
     "name": "stdout",
     "output_type": "stream",
     "text": [
      "p\n",
      "y\n",
      "t\n",
      "h\n",
      "o\n",
      "n\n"
     ]
    }
   ],
   "source": [
    "for j in range(0,len(s)):\n",
    "    print(s[j])"
   ]
  },
  {
   "cell_type": "code",
   "execution_count": 152,
   "metadata": {},
   "outputs": [
    {
     "name": "stdout",
     "output_type": "stream",
     "text": [
      "Enter String : hello\n",
      "Total Number of Vowels in this String =  2\n",
      "Total Number of Consonants in this String =  3\n"
     ]
    }
   ],
   "source": [
    "str1 = input(\"Enter String : \")\n",
    "vowels = 0\n",
    "consonants = 0\n",
    "\n",
    "for i in str1:\n",
    "    if(i == 'a' or i == 'e' or i == 'i' or i == 'o' or i == 'u'\n",
    "       or i == 'A' or i == 'E' or i == 'I' or i == 'O' or i == 'U'):\n",
    "        vowels = vowels + 1\n",
    "    else:\n",
    "        consonants = consonants + 1\n",
    " \n",
    "print(\"Total Number of Vowels in this String = \", vowels)\n",
    "print(\"Total Number of Consonants in this String = \", consonants)"
   ]
  },
  {
   "cell_type": "code",
   "execution_count": null,
   "metadata": {},
   "outputs": [],
   "source": []
  }
 ],
 "metadata": {
  "kernelspec": {
   "display_name": "Python 3",
   "language": "python",
   "name": "python3"
  },
  "language_info": {
   "codemirror_mode": {
    "name": "ipython",
    "version": 3
   },
   "file_extension": ".py",
   "mimetype": "text/x-python",
   "name": "python",
   "nbconvert_exporter": "python",
   "pygments_lexer": "ipython3",
   "version": "3.7.6"
  }
 },
 "nbformat": 4,
 "nbformat_minor": 4
}
