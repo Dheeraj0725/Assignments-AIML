{
 "cells": [
  {
   "cell_type": "markdown",
   "metadata": {},
   "source": [
    "# CSE-221710308061-Dheeraj\n"
   ]
  },
  {
   "cell_type": "code",
   "execution_count": 12,
   "metadata": {},
   "outputs": [],
   "source": [
    "f = open('counting.txt',\"w\")\n",
    "f.write('''python\n",
    "aiml\n",
    "data science''')\n",
    "f.close()"
   ]
  },
  {
   "cell_type": "code",
   "execution_count": 13,
   "metadata": {},
   "outputs": [
    {
     "name": "stdout",
     "output_type": "stream",
     "text": [
      "python\n",
      "aiml\n",
      "data science\n"
     ]
    }
   ],
   "source": [
    "f1= open(\"counting.txt\",'r')\n",
    "str1 = f1.read()\n",
    "print(str1)"
   ]
  },
  {
   "cell_type": "code",
   "execution_count": 16,
   "metadata": {},
   "outputs": [
    {
     "name": "stdout",
     "output_type": "stream",
     "text": [
      "lines: 3 words: 4 chars: 24\n"
     ]
    }
   ],
   "source": [
    "#1.count lines,words,chars in file\n",
    "\n",
    "file = open('counting.txt','r')\n",
    "lines=0\n",
    "words=0\n",
    "char=0\n",
    "for line in file:\n",
    "    word=line.split()\n",
    "    lines+=1\n",
    "    words+=len(word)\n",
    "    char+=len(line)\n",
    "f.close()\n",
    "print('lines:',lines,'words:',words,'chars:',char)"
   ]
  },
  {
   "cell_type": "code",
   "execution_count": 3,
   "metadata": {},
   "outputs": [
    {
     "name": "stdout",
     "output_type": "stream",
     "text": [
      "python\n",
      "aiml\n",
      "data science\n"
     ]
    }
   ],
   "source": [
    "#2.copy content of f1 to f2\n",
    "\n",
    "new=open('countcopy.txt','w')\n",
    "with open('counting.txt','r') as f:\n",
    "        new.write(f.read())\n",
    "new.close()\n",
    "f= open(\"countcopy.txt\",'r')\n",
    "str1 = f.read()\n",
    "print(str1)"
   ]
  },
  {
   "cell_type": "code",
   "execution_count": 37,
   "metadata": {},
   "outputs": [
    {
     "name": "stdout",
     "output_type": "stream",
     "text": [
      "python\n",
      "pycharm\n",
      "perfect\n",
      "pin\n"
     ]
    }
   ],
   "source": [
    "#3.Display words starting with P\n",
    "\n",
    "s='python using pycharm is perfect up pin'\n",
    "for i in s.split():\n",
    "    if i[0].lower()=='p':\n",
    "        print(i)"
   ]
  },
  {
   "cell_type": "code",
   "execution_count": 39,
   "metadata": {},
   "outputs": [],
   "source": [
    "#4.Rename and remove\n",
    "\n",
    "import os\n",
    "os.rename('counting.txt','test.txt')\n"
   ]
  },
  {
   "cell_type": "code",
   "execution_count": 3,
   "metadata": {},
   "outputs": [],
   "source": [
    "import os\n",
    "os.remove('datax.txt')"
   ]
  },
  {
   "cell_type": "code",
   "execution_count": 17,
   "metadata": {},
   "outputs": [
    {
     "name": "stdout",
     "output_type": "stream",
     "text": [
      "os.stat_result(st_mode=33206, st_ino=4785074605221942, st_dev=3797939015, st_nlink=1, st_uid=0, st_gid=0, st_size=512, st_atime=1590983440, st_mtime=1590983440, st_ctime=1590982237)\n",
      "File Size in Bytes is 512\n",
      "File Size in Bits is 4096\n"
     ]
    }
   ],
   "source": [
    "#5.file size 512 bytes\n",
    "\n",
    "import os\n",
    "file_name =r'C:\\Users\\dheeraj\\Desktop\\AIML Intern\\PythonTest\\test5.txt'\n",
    "file_stats=os.stat(file_name)\n",
    "print(file_stats)\n",
    "print(f'File Size in Bytes is {file_stats.st_size}')\n",
    "print(f'File Size in Bits is {file_stats.st_size*8}')"
   ]
  },
  {
   "cell_type": "code",
   "execution_count": 31,
   "metadata": {},
   "outputs": [
    {
     "name": "stdout",
     "output_type": "stream",
     "text": [
      "os.stat_result(st_mode=33206, st_ino=6755399442164347, st_dev=3797939015, st_nlink=1, st_uid=0, st_gid=0, st_size=512, st_atime=1590983800, st_mtime=1590983800, st_ctime=1590982133)\n",
      "File Size in Bytes is 512\n",
      "File Size in Bits is 4096\n"
     ]
    }
   ],
   "source": [
    "#5.file size 512 bytes\n",
    "\n",
    "import os\n",
    "file_name =r'C:\\Users\\dheeraj\\Desktop\\AIML Intern\\PythonTest\\test2.txt'\n",
    "file_stats=os.stat(file_name)\n",
    "print(file_stats)\n",
    "print(f'File Size in Bytes is {file_stats.st_size}')\n",
    "print(f'File Size in Bits is {file_stats.st_size*8}')"
   ]
  },
  {
   "cell_type": "code",
   "execution_count": null,
   "metadata": {},
   "outputs": [],
   "source": []
  }
 ],
 "metadata": {
  "kernelspec": {
   "display_name": "Python 3",
   "language": "python",
   "name": "python3"
  },
  "language_info": {
   "codemirror_mode": {
    "name": "ipython",
    "version": 3
   },
   "file_extension": ".py",
   "mimetype": "text/x-python",
   "name": "python",
   "nbconvert_exporter": "python",
   "pygments_lexer": "ipython3",
   "version": "3.7.6"
  }
 },
 "nbformat": 4,
 "nbformat_minor": 4
}
