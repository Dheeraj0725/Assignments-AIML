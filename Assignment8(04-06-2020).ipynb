{
 "cells": [
  {
   "cell_type": "markdown",
   "metadata": {},
   "source": [
    "# CSE-221710308061-Dheeraj"
   ]
  },
  {
   "cell_type": "code",
   "execution_count": 2,
   "metadata": {},
   "outputs": [
    {
     "name": "stdout",
     "output_type": "stream",
     "text": [
      "[12 13 14 15 16 17 18 19 20 21 22 23 24 25 26 27 28 29 30 31 32 33 34 35\n",
      " 36 37]\n",
      "[37 36 35 34 33 32 31 30 29 28 27 26 25 24 23 22 21 20 19 18 17 16 15 14\n",
      " 13 12]\n"
     ]
    }
   ],
   "source": [
    "#1. Reversing array\n",
    "\n",
    "import numpy as np\n",
    "arr1=np.arange(12,38)\n",
    "print(arr1)\n",
    "reverse=arr1[::-1]\n",
    "print(reverse)"
   ]
  },
  {
   "cell_type": "code",
   "execution_count": 3,
   "metadata": {},
   "outputs": [
    {
     "name": "stdout",
     "output_type": "stream",
     "text": [
      "[[1. 1. 1. 1. 1.]\n",
      " [1. 0. 0. 0. 1.]\n",
      " [1. 0. 0. 0. 1.]\n",
      " [1. 0. 0. 0. 1.]\n",
      " [1. 1. 1. 1. 1.]]\n"
     ]
    }
   ],
   "source": [
    "#2. Cretaing 2d array with 1 on border 0 on inside\n",
    "\n",
    "arr= np.ones((5,5))\n",
    "arr[1:-1,1:-1]=0\n",
    "print(arr)"
   ]
  },
  {
   "cell_type": "code",
   "execution_count": 4,
   "metadata": {},
   "outputs": [
    {
     "name": "stdout",
     "output_type": "stream",
     "text": [
      "array1:  [ 0 10 20 40 60]\n",
      "array2:  [0, 40]\n",
      "[ True False False  True False]\n"
     ]
    }
   ],
   "source": [
    "#3. Test each ele of 1d array is also present in 2nd array\n",
    "\n",
    "arr2= np.array([0, 10, 20, 40, 60])\n",
    "print(\"array1: \",arr2)\n",
    "arr3= [0, 40]\n",
    "print(\"array2: \",arr3)\n",
    "print(np.in1d(arr2, arr3))"
   ]
  },
  {
   "cell_type": "code",
   "execution_count": 5,
   "metadata": {},
   "outputs": [
    {
     "name": "stdout",
     "output_type": "stream",
     "text": [
      "array1:  [ 0 10 20 40 60 80]\n",
      "array2:  [10, 30, 40, 50, 70]\n",
      "[ 0 20 60 80]\n"
     ]
    }
   ],
   "source": [
    "#4.Set difference of 2 arrays\n",
    "\n",
    "arr4 = np.array([0, 10, 20, 40, 60, 80])\n",
    "print(\"array1: \",arr4)\n",
    "arr5 = [10, 30, 40, 50, 70]\n",
    "print(\"array2: \",arr5)\n",
    "print(np.setdiff1d(arr4, arr5))"
   ]
  },
  {
   "cell_type": "code",
   "execution_count": 6,
   "metadata": {},
   "outputs": [
    {
     "name": "stdout",
     "output_type": "stream",
     "text": [
      "[[4 0 0 0]\n",
      " [0 5 0 0]\n",
      " [0 0 6 0]\n",
      " [0 0 0 8]]\n"
     ]
    }
   ],
   "source": [
    "#5. Create 2d array whose diagonal equals [4,5,6,8] and 0\n",
    "\n",
    "arr5= np.diagflat([4, 5, 6, 8])\n",
    "print(arr5)"
   ]
  },
  {
   "cell_type": "code",
   "execution_count": null,
   "metadata": {},
   "outputs": [],
   "source": []
  }
 ],
 "metadata": {
  "kernelspec": {
   "display_name": "Python 3",
   "language": "python",
   "name": "python3"
  },
  "language_info": {
   "codemirror_mode": {
    "name": "ipython",
    "version": 3
   },
   "file_extension": ".py",
   "mimetype": "text/x-python",
   "name": "python",
   "nbconvert_exporter": "python",
   "pygments_lexer": "ipython3",
   "version": "3.7.6"
  }
 },
 "nbformat": 4,
 "nbformat_minor": 4
}
