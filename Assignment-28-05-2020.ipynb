{
 "cells": [
  {
   "cell_type": "code",
   "execution_count": 2,
   "metadata": {},
   "outputs": [
    {
     "name": "stdout",
     "output_type": "stream",
     "text": [
      "enter stringhello!\n",
      "2\n",
      "3\n",
      "1\n"
     ]
    }
   ],
   "source": [
    "#1.Accept string from the user and count no,vowels, consonants and special chracters\n",
    "\n",
    "s=(input(\"enter string\"))\n",
    "vowel=0\n",
    "conso=0\n",
    "spec=0\n",
    "for i in s:\n",
    "    if i in ['a','e','i','o','u']:\n",
    "        vowel= vowel+1\n",
    "    elif i in ['b','c','d','f','g','h','j','k','l','m','n','p','q','r','s','t','v','w','x','y','z']:\n",
    "        conso += 1\n",
    "    else:\n",
    "        spec +=1\n",
    "print(vowel)\n",
    "print(conso)\n",
    "print(spec)"
   ]
  },
  {
   "cell_type": "code",
   "execution_count": 5,
   "metadata": {},
   "outputs": [
    {
     "name": "stdout",
     "output_type": "stream",
     "text": [
      "2\n",
      "3\n"
     ]
    }
   ],
   "source": [
    "#2.COUNT #NO PAIRS\n",
    "\n",
    "def Calculate_Pairs(str1,c):\n",
    "    return str1.count(c*2)\n",
    "\n",
    "print(Calculate_Pairs('abbaaccbbaaa', 'a'))\n",
    "print(Calculate_Pairs('aabaabbbbabba', 'b'))\n",
    "\n",
    "\n"
   ]
  },
  {
   "cell_type": "code",
   "execution_count": 20,
   "metadata": {},
   "outputs": [
    {
     "name": "stdout",
     "output_type": "stream",
     "text": [
      "enter stringorange\n",
      "puboif"
     ]
    }
   ],
   "source": [
    "#3.input->orange output->puboif\n",
    "\n",
    "s = str(input('enter string'))\n",
    "vowel = ['a','e','i','o','u']\n",
    "for i in s:\n",
    "    if i in vowel:\n",
    "        print(chr(ord(i)+1),end='')\n",
    "    elif (ord(i)>65 and ord(i)<69) or (ord(i)>97 and ord(i)<101):\n",
    "        print('e',end = \"\")\n",
    "    elif (ord(i)>69 and ord(i)<73) or (ord(i)>101 and ord(i)<105):\n",
    "        print('i',end = \"\")\n",
    "    elif (ord(i)>73 and ord(i)<79) or (ord(i)>105 and ord(i)<111):\n",
    "        print('o',end = \"\")\n",
    "    elif (ord(i)>79 and ord(i)<85) or (ord(i)>111 and ord(i)<117):\n",
    "        print('u',end = \"\")\n",
    "    elif (ord(i)>85 and ord(i)<90) or (ord(i)>117 and ord(i)<122):\n",
    "        print('a',end =\"\")"
   ]
  },
  {
   "cell_type": "code",
   "execution_count": 21,
   "metadata": {},
   "outputs": [
    {
     "name": "stdout",
     "output_type": "stream",
     "text": [
      "enter a stringappli123cation456\n",
      "count 6 sum of digits 21\n"
     ]
    }
   ],
   "source": [
    "#4.Accept input as a string and display sum of digits as the output\n",
    "\n",
    "s = str(input('enter a string'))\n",
    "i = 0\n",
    "a=0\n",
    "count = 0\n",
    "while i<len(s):\n",
    "    if s[i].isdigit():\n",
    "        count+=1\n",
    "        a += int(s[i])\n",
    "    i+=1\n",
    "print('count',count,'sum of digits',a)\n"
   ]
  },
  {
   "cell_type": "code",
   "execution_count": 105,
   "metadata": {},
   "outputs": [
    {
     "name": "stdout",
     "output_type": "stream",
     "text": [
      "enter score between 0 and 1:0.85\n",
      "B\n"
     ]
    }
   ],
   "source": [
    "#5.Write a program to prompt for a score between 0.0 and 1.0. If the score is out of range, print an error. If the score is between 0.0 and 1.0, print a grade using the following table:\n",
    "#Score Grade\n",
    "#>= 0.9 A\n",
    "#>= 0.8 B\n",
    "#>= 0.7 C\n",
    "#>= 0.6 D\n",
    "#< 0.6 F\n",
    "\n",
    "\n",
    "a = float(input('enter score between 0 and 1:'))\n",
    "if a>1:\n",
    "    print('invalid entry')\n",
    "elif a>=0.9:\n",
    "    print('A')\n",
    "elif a>=0.8:\n",
    "    print('B')\n",
    "elif a>=0.7:\n",
    "    print('C')\n",
    "elif a>=0.6:\n",
    "    print('D')\n",
    "else:\n",
    "    print('F')"
   ]
  },
  {
   "cell_type": "code",
   "execution_count": 41,
   "metadata": {},
   "outputs": [
    {
     "name": "stdout",
     "output_type": "stream",
     "text": [
      "A: 26\n",
      "B: 15\n",
      "C: 29\n",
      "A is medain 26\n"
     ]
    }
   ],
   "source": [
    "#6.median of 3 values\n",
    "\n",
    "a=int(input(\"A: \"))\n",
    "b=int(input(\"B: \"))\n",
    "c=int(input(\"C: \"))\n",
    "if a>b:\n",
    "    print('A is medain',a)\n",
    "elif b>c:\n",
    "    print('B is medain',b)\n",
    "else :\n",
    "    print('C is median',c)"
   ]
  },
  {
   "cell_type": "code",
   "execution_count": 112,
   "metadata": {},
   "outputs": [
    {
     "name": "stdout",
     "output_type": "stream",
     "text": [
      "fizzbuzz\n",
      "1\n",
      "2\n",
      "fizz\n",
      "4\n",
      "buzz\n",
      "fizz\n",
      "7\n",
      "8\n",
      "fizz\n",
      "buzz\n",
      "11\n",
      "fizz\n",
      "13\n",
      "14\n",
      "fizzbuzz\n",
      "16\n",
      "17\n",
      "fizz\n",
      "19\n",
      "buzz\n",
      "fizz\n",
      "22\n",
      "23\n",
      "fizz\n",
      "buzz\n",
      "26\n",
      "fizz\n",
      "28\n",
      "29\n",
      "fizzbuzz\n",
      "31\n",
      "32\n",
      "fizz\n",
      "34\n",
      "buzz\n",
      "fizz\n",
      "37\n",
      "38\n",
      "fizz\n",
      "buzz\n",
      "41\n",
      "fizz\n",
      "43\n",
      "44\n",
      "fizzbuzz\n",
      "46\n",
      "47\n",
      "fizz\n",
      "49\n"
     ]
    }
   ],
   "source": [
    "#7.Write a Python program which iterates the integers from 1 to 50.\n",
    "#For multiples of three print \"Fizz\" instead of the number and \n",
    "#for the multiples of five print \"Buzz\".\n",
    "#For numbers which are multiples of both three and five print \"FizzBuzz\"\n",
    "\n",
    "\n",
    "for x in range(0,50):\n",
    "    if x%15 == 0:\n",
    "        print('fizzbuzz')\n",
    "        continue\n",
    "    elif x%3 == 0:\n",
    "        print('fizz')\n",
    "        continue\n",
    "    elif x%5 == 0:\n",
    "        print('buzz')\n",
    "        continue\n",
    "    print(x)"
   ]
  },
  {
   "cell_type": "code",
   "execution_count": 96,
   "metadata": {},
   "outputs": [
    {
     "name": "stdout",
     "output_type": "stream",
     "text": [
      "num: 127\n",
      "848\n"
     ]
    }
   ],
   "source": [
    "#8.Accept a number as an input and check whether the given number is palindrome or not\n",
    "\n",
    "n = int(input('num: '))\n",
    "s=0\n",
    "while True:\n",
    "    k=str(n)\n",
    "    if(k==k[::-1]):\n",
    "        #print(k,'is palindrome')\n",
    "        break\n",
    "    else:\n",
    "        m=int(k[::-1])\n",
    "        n+=m\n",
    "        s+=1\n",
    "    print(n)\n",
    "    "
   ]
  },
  {
   "cell_type": "code",
   "execution_count": 102,
   "metadata": {},
   "outputs": [
    {
     "name": "stdout",
     "output_type": "stream",
     "text": [
      "limit1: 1\n",
      "limit2: 100\n",
      "18\n"
     ]
    }
   ],
   "source": [
    "#9.Read the input as two limits and Print the output as Palindrome count between the two limits\n",
    "\n",
    "li1 = int(input('limit1: '))\n",
    "li2 = int(input('limit2: '))\n",
    "c=0\n",
    "for i in range(li1,li2+1):\n",
    "    if str(i)==str(i)[::-1]:\n",
    "        c+=1\n",
    "print(c)"
   ]
  },
  {
   "cell_type": "code",
   "execution_count": 111,
   "metadata": {},
   "outputs": [
    {
     "name": "stdout",
     "output_type": "stream",
     "text": [
      "enter str: ()()(())\n",
      "6\n"
     ]
    }
   ],
   "source": [
    "#10. Balanced Parenthesis\n",
    "z=input('enter str: ')\n",
    "n=len(z)\n",
    "count=0\n",
    "for i in range(0,n-1):\n",
    "    if(z[i]=='('and z[i+1]==')'):\n",
    "        count+=1\n",
    "print(count*2)"
   ]
  },
  {
   "cell_type": "code",
   "execution_count": 114,
   "metadata": {},
   "outputs": [
    {
     "name": "stdout",
     "output_type": "stream",
     "text": [
      "string : ((()))()\n",
      "4\n"
     ]
    }
   ],
   "source": [
    "#10.balanced parenthesis ALT\n",
    "s=input(\"string : \")\n",
    "count=0\n",
    "i=0\n",
    "while i<(len(s)-1):\n",
    "    if(s[i]=='('):\n",
    "        count+=1\n",
    "    i+=1\n",
    "print(count)\n"
   ]
  },
  {
   "cell_type": "code",
   "execution_count": null,
   "metadata": {},
   "outputs": [],
   "source": []
  }
 ],
 "metadata": {
  "kernelspec": {
   "display_name": "Python 3",
   "language": "python",
   "name": "python3"
  },
  "language_info": {
   "codemirror_mode": {
    "name": "ipython",
    "version": 3
   },
   "file_extension": ".py",
   "mimetype": "text/x-python",
   "name": "python",
   "nbconvert_exporter": "python",
   "pygments_lexer": "ipython3",
   "version": "3.7.6"
  }
 },
 "nbformat": 4,
 "nbformat_minor": 4
}
