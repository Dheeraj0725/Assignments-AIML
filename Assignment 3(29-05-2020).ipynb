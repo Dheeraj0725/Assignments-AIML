{
 "cells": [
  {
   "cell_type": "markdown",
   "metadata": {},
   "source": [
    "# CSE-221710308061-Dheeraj"
   ]
  },
  {
   "cell_type": "code",
   "execution_count": 4,
   "metadata": {},
   "outputs": [
    {
     "name": "stdout",
     "output_type": "stream",
     "text": [
      "120\n"
     ]
    }
   ],
   "source": [
    "#1.Factorial using recursion\n",
    "\n",
    "def fact(x):\n",
    "    if x==1:\n",
    "        return x\n",
    "    else:\n",
    "        return(x*fact(x-1))\n",
    "num=5\n",
    "print(fact(num))"
   ]
  },
  {
   "cell_type": "code",
   "execution_count": 11,
   "metadata": {},
   "outputs": [
    {
     "name": "stdout",
     "output_type": "stream",
     "text": [
      "enter series digit: 10\n",
      "Fib series is: \n",
      "0 1 1 2 3 5 8 13 21 34 "
     ]
    }
   ],
   "source": [
    "#2.Fibonacci using recursion\n",
    "\n",
    "def fib(x):\n",
    "    if x==0:\n",
    "        return 0\n",
    "    elif x==1:\n",
    "        return 1\n",
    "    else:\n",
    "        return (fib(x-2)+fib(x-1))\n",
    "n = int(input('enter series digit: '))\n",
    "print('Fib series is: ')\n",
    "for n in range(0,n):\n",
    "    print(fib(n),end=' ')"
   ]
  },
  {
   "cell_type": "code",
   "execution_count": 16,
   "metadata": {},
   "outputs": [
    {
     "name": "stdout",
     "output_type": "stream",
     "text": [
      "total is:  15\n"
     ]
    }
   ],
   "source": [
    "#3.Sum of list of elements using sum()\n",
    "\n",
    "list1 = [1,2,3,4,5]\n",
    "sum=0\n",
    "n=0\n",
    "while(n < len(list1)):\n",
    "    sum +=list1[n]\n",
    "    n+=1\n",
    "print('total is: ',sum)"
   ]
  },
  {
   "cell_type": "code",
   "execution_count": 20,
   "metadata": {},
   "outputs": [
    {
     "name": "stdout",
     "output_type": "stream",
     "text": [
      "2\n",
      "4\n",
      "6\n",
      "8\n",
      "120\n",
      "1280\n",
      "123456\n"
     ]
    }
   ],
   "source": [
    "#4.Print only even numbers from the list\n",
    "\n",
    "list1=[1,2,3,4,5,6,7,8,9,120,1280,123456]\n",
    "for x in list1:\n",
    "    if x%2==0:\n",
    "        print(x)"
   ]
  },
  {
   "cell_type": "code",
   "execution_count": 5,
   "metadata": {},
   "outputs": [
    {
     "name": "stdout",
     "output_type": "stream",
     "text": [
      "enter noof ele: 5\n",
      "enter ele: 2\n",
      "enter ele: 5\n",
      "enter ele: 88\n",
      "enter ele: 95\n",
      "enter ele: -54\n",
      "[-54] is the smallest number\n"
     ]
    }
   ],
   "source": [
    "#5.Smallest number in list and index of that number\n",
    "\n",
    "l1=[]\n",
    "n = int(input('enter noof ele: '))\n",
    "for i in range(1,n+1):\n",
    "    x=int(input('enter ele: '))\n",
    "    l1.append(x)\n",
    "    l1.sort()\n",
    "print(l1[:1],'is the smallest number')"
   ]
  },
  {
   "cell_type": "code",
   "execution_count": 21,
   "metadata": {},
   "outputs": [
    {
     "name": "stdout",
     "output_type": "stream",
     "text": [
      "Enter string to check: mom\n",
      "mom is a palindrome\n"
     ]
    }
   ],
   "source": [
    "#6.Palindrome using functions\n",
    "\n",
    "def palin(x):\n",
    "    pass\n",
    "x=10\n",
    "s=input('Enter string to check: ')\n",
    "if (s==s[::-1]):\n",
    "    print(s,\"is a palindrome\")\n",
    "else:\n",
    "    print(s,\"is not a palindrome\")\n",
    "palin(x)"
   ]
  },
  {
   "cell_type": "code",
   "execution_count": 25,
   "metadata": {},
   "outputs": [
    {
     "name": "stdout",
     "output_type": "stream",
     "text": [
      "enter noof ele: 9\n",
      "enter ele: 1\n",
      "enter ele: 2\n",
      "enter ele: 3\n",
      "enter ele: 4\n",
      "enter ele: 5\n",
      "enter ele: 6\n",
      "enter ele: 7\n",
      "enter ele: 8\n",
      "enter ele: 9\n",
      "even #no count is:  4\n",
      "odd #no count is:  5\n"
     ]
    }
   ],
   "source": [
    "#7.Count even and odd #no in list\n",
    "\n",
    "l1=[]\n",
    "even=0\n",
    "odd=0\n",
    "n = int(input('enter noof ele: '))\n",
    "for i in range(1,n+1):\n",
    "    x=int(input('enter ele: '))\n",
    "    l1.append(x)\n",
    "for num in l1:\n",
    "    if num%2==0:\n",
    "        even+=1\n",
    "    else:\n",
    "        odd+=1\n",
    "print('even #no count is: ',even)\n",
    "print('odd #no count is: ',odd)"
   ]
  },
  {
   "cell_type": "code",
   "execution_count": 29,
   "metadata": {},
   "outputs": [
    {
     "name": "stdout",
     "output_type": "stream",
     "text": [
      "0\n",
      "1\n",
      "2\n",
      "4\n",
      "5\n"
     ]
    }
   ],
   "source": [
    "#8.Print all #no from 0 to 6 except 3 and 6\n",
    "\n",
    "for num in range(6):\n",
    "    if(num==3 or num==6):\n",
    "        continue\n",
    "    print(num)"
   ]
  },
  {
   "cell_type": "code",
   "execution_count": 40,
   "metadata": {},
   "outputs": [
    {
     "name": "stdout",
     "output_type": "stream",
     "text": [
      "enter number to check4\n",
      "4 is not a prime #no\n"
     ]
    }
   ],
   "source": [
    "#9.Given #no Prime or not\n",
    "\n",
    "x = int(input('enter number to check'))\n",
    "if num > 1:\n",
    "    for i in range(2,x):\n",
    "        if(x%i)==0:\n",
    "            print(x,'is not a prime #no')\n",
    "            break\n",
    "    else:\n",
    "        print(x,'is a prime #no')"
   ]
  },
  {
   "cell_type": "code",
   "execution_count": 52,
   "metadata": {},
   "outputs": [
    {
     "name": "stdout",
     "output_type": "stream",
     "text": [
      "enter number to check: 21\n",
      "21 is adam #no\n"
     ]
    }
   ],
   "source": [
    "#10.Adam number\n",
    "\n",
    "def adam(n):\n",
    "    n=num\n",
    "    rev=0\n",
    "    while(n!=0):\n",
    "        rev=rev*10+n%10\n",
    "        n=n//10\n",
    "    sqr=num**2\n",
    "    revsqr=rev**2\n",
    "    n=revsqr\n",
    "    rev=0\n",
    "    while n!=0:\n",
    "        rev=rev*10+n%10\n",
    "        n=n//10\n",
    "    return sqr==rev\n",
    "n = int(input('enter number to check: '))\n",
    "if adam(n):\n",
    "    print(n,'is adam #no')\n",
    "else:\n",
    "    print(n,'is not adam #no')"
   ]
  }
 ],
 "metadata": {
  "kernelspec": {
   "display_name": "Python 3",
   "language": "python",
   "name": "python3"
  },
  "language_info": {
   "codemirror_mode": {
    "name": "ipython",
    "version": 3
   },
   "file_extension": ".py",
   "mimetype": "text/x-python",
   "name": "python",
   "nbconvert_exporter": "python",
   "pygments_lexer": "ipython3",
   "version": "3.7.6"
  }
 },
 "nbformat": 4,
 "nbformat_minor": 4
}
